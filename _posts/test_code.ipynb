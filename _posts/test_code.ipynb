{
 "cells": [
  {
   "cell_type": "code",
   "execution_count": 21,
   "metadata": {},
   "outputs": [],
   "source": [
    "def fibonacci(n: int) -> int:\n",
    "    \"\"\"Phương trình nhận vào index n và trả về số Fibonacci Fn\"\"\"\n",
    "    a = 0\n",
    "    b = 1\n",
    "    for loop in range(n):\n",
    "        next_fibonacci = a + b\n",
    "        a = b\n",
    "        b = next_fibonacci\n",
    "    return a"
   ]
  },
  {
   "cell_type": "code",
   "execution_count": 22,
   "metadata": {},
   "outputs": [],
   "source": [
    "def fibonacci(n: int) -> int:\n",
    "    \"\"\"Phương trình nhận vào index n và trả về số Fibonacci Fn\"\"\"\n",
    "    a = 0\n",
    "    b = 1\n",
    "    for loop in range(n):\n",
    "        a, b = b, a+b\n",
    "    return a"
   ]
  },
  {
   "cell_type": "code",
   "execution_count": 23,
   "metadata": {},
   "outputs": [],
   "source": [
    "def fibonacci_binet_formula(n: int) -> int:\n",
    "    phi = (1 + 5**(1/2))/2  # phi là ký hiệu của tỉ lệ vàng\n",
    "    Fn = ( phi**n - (-phi)**(-n) )/(2*phi - 1)\n",
    "    return int(Fn)"
   ]
  },
  {
   "cell_type": "code",
   "execution_count": 24,
   "metadata": {},
   "outputs": [
    {
     "data": {
      "text/plain": [
       "55"
      ]
     },
     "execution_count": 24,
     "metadata": {},
     "output_type": "execute_result"
    }
   ],
   "source": [
    "fibonacci(10)"
   ]
  },
  {
   "cell_type": "code",
   "execution_count": 25,
   "metadata": {},
   "outputs": [],
   "source": [
    "def fibonacci_binet_formula_short(n: int) -> int:\n",
    "    sqrt5 = 5**(1/2)\n",
    "    Fn = ((1 + sqrt5)/2)**n / sqrt5\n",
    "    return int(round(Fn))"
   ]
  },
  {
   "cell_type": "code",
   "execution_count": 26,
   "metadata": {},
   "outputs": [],
   "source": [
    "def fibonacci_binet_formula_short2(n: int) -> int:\n",
    "    phi = (1 + 5**(1/2))/2  # phi là ký hiệu của tỉ lệ vàng\n",
    "    Fn = ( phi**n )/(2*phi - 1)\n",
    "    return int(round(Fn))"
   ]
  },
  {
   "cell_type": "code",
   "execution_count": 27,
   "metadata": {},
   "outputs": [
    {
     "name": "stdout",
     "output_type": "stream",
     "text": [
      "0 \t 0 \t 0 \t 0 \t 0\n",
      "1 \t 1 \t 1 \t 1 \t 1\n",
      "2 \t 1 \t 1 \t 1 \t 1\n",
      "3 \t 2 \t 2 \t 2 \t 2\n",
      "4 \t 3 \t 3 \t 3 \t 3\n",
      "5 \t 5 \t 5 \t 5 \t 5\n",
      "6 \t 8 \t 8 \t 8 \t 8\n",
      "7 \t 13 \t 13 \t 13 \t 13\n",
      "8 \t 21 \t 21 \t 21 \t 21\n",
      "9 \t 34 \t 34 \t 34 \t 34\n",
      "10 \t 55 \t 55 \t 55 \t 55\n",
      "11 \t 89 \t 89 \t 89 \t 89\n",
      "12 \t 144 \t 144 \t 144 \t 144\n",
      "13 \t 233 \t 233 \t 233 \t 233\n",
      "14 \t 377 \t 377 \t 377 \t 377\n",
      "15 \t 610 \t 610 \t 610 \t 610\n",
      "16 \t 987 \t 987 \t 987 \t 987\n",
      "17 \t 1597 \t 1597 \t 1597 \t 1597\n",
      "18 \t 2584 \t 2584 \t 2584 \t 2584\n",
      "19 \t 4181 \t 4181 \t 4181 \t 4181\n",
      "20 \t 6765 \t 6765 \t 6765 \t 6765\n",
      "21 \t 10946 \t 10946 \t 10946 \t 10946\n",
      "22 \t 17711 \t 17711 \t 17711 \t 17711\n",
      "23 \t 28657 \t 28657 \t 28657 \t 28657\n",
      "24 \t 46368 \t 46368 \t 46368 \t 46368\n",
      "25 \t 75025 \t 75025 \t 75025 \t 75025\n",
      "26 \t 121393 \t 121393 \t 121393 \t 121393\n",
      "27 \t 196418 \t 196418 \t 196418 \t 196418\n",
      "28 \t 317811 \t 317811 \t 317811 \t 317811\n",
      "29 \t 514229 \t 514229 \t 514229 \t 514229\n",
      "30 \t 832040 \t 832040 \t 832040 \t 832040\n",
      "31 \t 1346269 \t 1346269 \t 1346269 \t 1346269\n",
      "32 \t 2178309 \t 2178309 \t 2178309 \t 2178309\n",
      "33 \t 3524578 \t 3524578 \t 3524578 \t 3524578\n",
      "34 \t 5702887 \t 5702887 \t 5702887 \t 5702887\n",
      "35 \t 9227465 \t 9227465 \t 9227465 \t 9227465\n",
      "36 \t 14930352 \t 14930352 \t 14930352 \t 14930352\n",
      "37 \t 24157817 \t 24157817 \t 24157817 \t 24157817\n",
      "38 \t 39088169 \t 39088169 \t 39088169 \t 39088169\n",
      "39 \t 63245986 \t 63245986 \t 63245986 \t 63245986\n",
      "40 \t 102334155 \t 102334155 \t 102334155 \t 102334155\n",
      "41 \t 165580141 \t 165580141 \t 165580141 \t 165580141\n",
      "42 \t 267914296 \t 267914296 \t 267914296 \t 267914296\n",
      "43 \t 433494437 \t 433494437 \t 433494437 \t 433494437\n",
      "44 \t 701408733 \t 701408733 \t 701408733 \t 701408733\n",
      "45 \t 1134903170 \t 1134903170 \t 1134903170 \t 1134903170\n",
      "46 \t 1836311903 \t 1836311903 \t 1836311903 \t 1836311903\n",
      "47 \t 2971215073 \t 2971215073 \t 2971215073 \t 2971215073\n",
      "48 \t 4807526976 \t 4807526976 \t 4807526976 \t 4807526976\n",
      "49 \t 7778742049 \t 7778742049 \t 7778742049 \t 7778742049\n"
     ]
    }
   ],
   "source": [
    "for i in range(50):\n",
    "    print(f\"{i} \\t {fibonacci(i)} \\t {fibonacci_binet_formula(i)} \\t {fibonacci_binet_formula_short(i)} \\t {fibonacci_binet_formula_short2(i)}\")"
   ]
  },
  {
   "cell_type": "code",
   "execution_count": 1,
   "metadata": {},
   "outputs": [
    {
     "name": "stdout",
     "output_type": "stream",
     "text": [
      "435 µs ± 128 µs per loop (mean ± std. dev. of 7 runs, 1,000 loops each)\n"
     ]
    }
   ],
   "source": [
    "%%timeit\n",
    "fibo_cache = {0: 0, 1: 1}\n",
    "\n",
    "def fibonacci_recursive(n: int, fibo_cache= fibo_cache) -> int:\n",
    "    if n in fibo_cache:\n",
    "        return fibo_cache[n]\n",
    "    fibo_cache[n] = fibonacci_recursive(n-1) + fibonacci_recursive(n-2)\n",
    "    return fibo_cache[n]\n",
    "\n",
    "fibonacci_recursive(500)"
   ]
  },
  {
   "cell_type": "code",
   "execution_count": 2,
   "metadata": {},
   "outputs": [
    {
     "name": "stdout",
     "output_type": "stream",
     "text": [
      "443 µs ± 134 µs per loop (mean ± std. dev. of 7 runs, 1,000 loops each)\n"
     ]
    }
   ],
   "source": [
    "%%timeit\n",
    "fibo_cache = {0: 0, 1: 1}\n",
    "\n",
    "def fibonacci_recursive(n: int, fibo_cache= fibo_cache) -> int:\n",
    "    if n < len(fibo_cache):\n",
    "        return fibo_cache[n]\n",
    "    fibo_cache[n] = fibonacci_recursive(n-1) + fibonacci_recursive(n-2)\n",
    "    return fibo_cache[n]\n",
    "\n",
    "fibonacci_recursive(500)"
   ]
  },
  {
   "cell_type": "code",
   "execution_count": 38,
   "metadata": {},
   "outputs": [
    {
     "name": "stdout",
     "output_type": "stream",
     "text": [
      "46.9 µs ± 12.5 µs per loop (mean ± std. dev. of 7 runs, 10,000 loops each)\n"
     ]
    }
   ],
   "source": [
    "%%timeit\n",
    "def fibonacci_recursive(n: int, cache) -> int:\n",
    "    if n < 2:\n",
    "        return n    # F0 = 0 và F1 = 1\n",
    "    if cache[n] is not None:\n",
    "        return cache[n]\n",
    "    fn = fibonacci_recursive(n-1, cache) + fibonacci_recursive(n-2, cache) \n",
    "    cache[n] = fn\n",
    "    return fn\n",
    "\n",
    "n = 50\n",
    "cache = [None] * (n+1)\n",
    "fibonacci_recursive(n, cache)"
   ]
  },
  {
   "cell_type": "code",
   "execution_count": 31,
   "metadata": {},
   "outputs": [
    {
     "name": "stdout",
     "output_type": "stream",
     "text": [
      "6.88 ms ± 1.86 ms per loop (mean ± std. dev. of 7 runs, 100 loops each)\n"
     ]
    }
   ],
   "source": [
    "%%timeit\n",
    "def fibonacci_recursive(n: int) -> int:\n",
    "    if n <= 1:\n",
    "        return n # fib(0) = 0 và fib(1) = 1\n",
    "    return fibonacci_recursive(n-1) + fibonacci_recursive(n-2)\n",
    "\n",
    "fibonacci_recursive(20)"
   ]
  },
  {
   "cell_type": "code",
   "execution_count": null,
   "metadata": {},
   "outputs": [],
   "source": []
  }
 ],
 "metadata": {
  "kernelspec": {
   "display_name": "base",
   "language": "python",
   "name": "python3"
  },
  "language_info": {
   "codemirror_mode": {
    "name": "ipython",
    "version": 3
   },
   "file_extension": ".py",
   "mimetype": "text/x-python",
   "name": "python",
   "nbconvert_exporter": "python",
   "pygments_lexer": "ipython3",
   "version": "3.10.9"
  },
  "orig_nbformat": 4
 },
 "nbformat": 4,
 "nbformat_minor": 2
}
