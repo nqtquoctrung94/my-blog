{
 "cells": [
  {
   "cell_type": "code",
   "execution_count": 7,
   "metadata": {},
   "outputs": [
    {
     "name": "stdout",
     "output_type": "stream",
     "text": [
      "0 0 0 | 0 0 2 | 0 3 0 \n",
      "0 0 5 | 8 0 0 | 9 0 0 \n",
      "9 0 0 | 0 0 5 | 0 0 0 \n",
      "------+-------+------\n",
      "0 1 3 | 4 0 6 | 0 8 0 \n",
      "0 6 0 | 0 0 0 | 0 7 0 \n",
      "0 8 0 | 5 0 1 | 6 4 0 \n",
      "------+-------+------\n",
      "0 0 0 | 3 0 0 | 0 0 6 \n",
      "0 0 2 | 0 0 7 | 4 0 0 \n",
      "0 7 0 | 6 0 0 | 0 0 0 \n"
     ]
    }
   ],
   "source": [
    "def display_sudoku(grid, blank_notation = \"-\"):\n",
    "    for row in range(9):\n",
    "\n",
    "        # In thêm dòng ngăn cách nếu ở các dòng 3, 6\n",
    "        if row in (3,6):\n",
    "            print(\"------+-------+------\")\n",
    "\n",
    "        # In thêm | để chia cột nếu ở các cột 3, 6\n",
    "        for col in range(9):\n",
    "            if col in (3,6):\n",
    "                print(\"| \", end=\"\")\n",
    "\n",
    "            # Nếu là số 0, tức là giá trị chưa được điền, thì đổi thành blank_notation tuỳ ý\n",
    "            number = grid[row][col]\n",
    "            if number == 0:\n",
    "                number = blank_notation\n",
    "\n",
    "            # Viết số trong mảng, thêm khoảng cách \" \" phía sau\n",
    "            print(number, end = \" \")\n",
    "        print()\n",
    "\n",
    "sudoku_grid = [[0, 0, 0, 0, 0, 2, 0, 3, 0],\n",
    "               [0, 0, 5, 8, 0, 0, 9, 0, 0],\n",
    "               [9, 0, 0, 0, 0, 5, 0, 0, 0],\n",
    "               [0, 1, 3, 4, 0, 6, 0, 8, 0],\n",
    "               [0, 6, 0, 0, 0, 0, 0, 7, 0],\n",
    "               [0, 8, 0, 5, 0, 1, 6, 4, 0],\n",
    "               [0, 0, 0, 3, 0, 0, 0, 0, 6],\n",
    "               [0, 0, 2, 0, 0, 7, 4, 0, 0],\n",
    "               [0, 7, 0, 6, 0, 0, 0, 0, 0]]\n",
    "display_sudoku(sudoku_grid, blank_notation=0)"
   ]
  },
  {
   "cell_type": "code",
   "execution_count": 47,
   "metadata": {},
   "outputs": [],
   "source": [
    "def can_input(grid, value, row, col):\n",
    "    # Kiểm tra xem trong hàng muốn nhập đã có giá trị này chưa\n",
    "    for i in range(9):\n",
    "        if grid[row][i] == value:\n",
    "            return False\n",
    "        \n",
    "    # Kiểm tra xem trong cột muốn nhập đã có giá trị này chưa\n",
    "    for i in range(9):\n",
    "        if grid[i][col] == value:\n",
    "            return False\n",
    "\n",
    "    # Xác định vị trí ô 3x3 nhỏ chứa vị trí muốn điền\n",
    "    small_row = (row//3)*3\n",
    "    small_col = (col//3)*3\n",
    "\n",
    "    # Kiểm tra toàn bộ 9 ô trong mảng 3x3 xem đã có giá trị này chưa\n",
    "    for i in range(3):\n",
    "        for j in range(3):\n",
    "            if grid[small_row + i][small_col + j] == value:\n",
    "                return False\n",
    "\n",
    "    # Nếu chưa có ở đâu hết thì có thể điền value\n",
    "    return True\n",
    "\n",
    "def sudoku_solver(grid):\n",
    "    for row in range(9):\n",
    "        for col in range(9):\n",
    "            if grid[row][col] == 0:\n",
    "\n",
    "                # Thử từng giá trị từ 1 đến 9\n",
    "                for value in range(1, 10):\n",
    "                    if can_input(grid, value, row, col):\n",
    "\n",
    "                        # Nếu điền được, gọi lại hàm để giải tiếp ô tiếp theo\n",
    "                        grid[row][col] = value\n",
    "                        sudoku_solver(grid)\n",
    "\n",
    "                        # Nếu hàm bên trên bị kẹt, không thể điền tiếp nữa, thì ở đây sẽ trả lại về 0 và thử xét lại với giá trị khác\n",
    "                        grid[row][col] = 0\n",
    "\n",
    "                # Sau khi điền ổn rồi khi dừng lại, không xét thêm nữa\n",
    "                return\n",
    "            \n",
    "    # Sau khi toàn bộ bảng đã được điền thì hiện ra kết quả\n",
    "    display_sudoku(grid)"
   ]
  },
  {
   "cell_type": "code",
   "execution_count": 9,
   "metadata": {},
   "outputs": [],
   "source": [
    "def sudoku_solver2(grid, row=0, col=0):\n",
    "\n",
    "    if col == 9:\n",
    "        if row == 8:\n",
    "            # Nếu đã đến cột cuối, dòng cuối rồi thì là đã giải xong, in ra sudoku\n",
    "            display_sudoku(grid)\n",
    "            return\n",
    "        \n",
    "        # Nếu chưa đến dòng cuối, thì tăng số dòng +1, chuyển cột về 0\n",
    "        sudoku_solver2(grid, row+1, 0)\n",
    "    else:\n",
    "        if grid[row][col] == 0:\n",
    "\n",
    "            # Thử từng giá trị từ 1 đến 9\n",
    "            for value in range(1, 10):\n",
    "                if can_input(grid, value, row, col):\n",
    "\n",
    "                    # Nếu điền được, gọi lại hàm để giải tiếp ô ở cột tiếp theo\n",
    "                    grid[row][col] = value\n",
    "                    sudoku_solver2(grid, row, col+1)\n",
    "\n",
    "                    # Nếu hàm bên trên bị kẹt, không thể điền tiếp nữa, thì ở đây sẽ trả lại về 0 và thử xét lại với giá trị khác\n",
    "                    grid[row][col] = 0\n",
    "\n",
    "        # Nếu ô hiện tại không trống thì qua cột tiếp theo\n",
    "        else:\n",
    "            sudoku_solver2(grid, row, col+1)"
   ]
  },
  {
   "cell_type": "code",
   "execution_count": 10,
   "metadata": {},
   "outputs": [
    {
     "name": "stdout",
     "output_type": "stream",
     "text": [
      "8 4 7 | 9 6 2 | 1 3 5 \n",
      "1 2 5 | 8 4 3 | 9 6 7 \n",
      "9 3 6 | 7 1 5 | 8 2 4 \n",
      "------+-------+------\n",
      "2 1 3 | 4 7 6 | 5 8 9 \n",
      "5 6 4 | 2 9 8 | 3 7 1 \n",
      "7 8 9 | 5 3 1 | 6 4 2 \n",
      "------+-------+------\n",
      "4 5 8 | 3 2 9 | 7 1 6 \n",
      "6 9 2 | 1 8 7 | 4 5 3 \n",
      "3 7 1 | 6 5 4 | 2 9 8 \n"
     ]
    }
   ],
   "source": [
    "sodoku_grid = [\n",
    "    [0, 0, 0, 0, 0, 2, 0, 3, 0],\n",
    "    [0, 0, 5, 8, 0, 0, 9, 0, 0],\n",
    "    [9, 0, 0, 0, 0, 5, 0, 0, 0],\n",
    "    [0, 1, 3, 4, 0, 6, 0, 8, 0],\n",
    "    [0, 6, 0, 0, 0, 0, 0, 7, 0],\n",
    "    [0, 8, 0, 5, 0, 1, 6, 4, 0],\n",
    "    [0, 0, 0, 3, 0, 0, 0, 0, 6],\n",
    "    [0, 0, 2, 0, 0, 7, 4, 0, 0],\n",
    "    [0, 7, 0, 6, 0, 0, 0, 0, 0],\n",
    "]\n",
    "\n",
    "sudoku_solver2(sodoku_grid)"
   ]
  },
  {
   "cell_type": "code",
   "execution_count": 11,
   "metadata": {},
   "outputs": [
    {
     "name": "stdout",
     "output_type": "stream",
     "text": [
      "8 4 7 | 9 6 2 | 1 3 5 \n",
      "1 2 5 | 8 4 3 | 9 6 7 \n",
      "9 3 6 | 7 1 5 | 8 2 4 \n",
      "------+-------+------\n",
      "2 1 3 | 4 7 6 | 5 8 9 \n",
      "5 6 4 | 2 9 8 | 3 7 1 \n",
      "7 8 9 | 5 3 1 | 6 4 2 \n",
      "------+-------+------\n",
      "4 5 8 | 3 2 9 | 7 1 6 \n",
      "6 9 2 | 1 8 7 | 4 5 3 \n",
      "3 7 1 | 6 5 4 | 2 9 8 \n"
     ]
    }
   ],
   "source": [
    "sodoku_grid = [\n",
    "    [0, 0, 0, 0, 0, 2, 0, 3, 0],\n",
    "    [0, 0, 5, 8, 0, 0, 9, 0, 0],\n",
    "    [9, 0, 0, 0, 0, 5, 0, 0, 0],\n",
    "    [0, 1, 3, 4, 0, 6, 0, 8, 0],\n",
    "    [0, 6, 0, 0, 0, 0, 0, 7, 0],\n",
    "    [0, 8, 0, 5, 0, 1, 6, 4, 0],\n",
    "    [0, 0, 0, 3, 0, 0, 0, 0, 6],\n",
    "    [0, 0, 2, 0, 0, 7, 4, 0, 0],\n",
    "    [0, 7, 0, 6, 0, 0, 0, 0, 0],\n",
    "]\n",
    "\n",
    "sudoku_solver(sodoku_grid)"
   ]
  },
  {
   "cell_type": "code",
   "execution_count": 12,
   "metadata": {},
   "outputs": [],
   "source": [
    "blank_sudoku = [\n",
    "    [0, 0, 0, 0, 0, 0, 0, 0, 0],\n",
    "    [0, 0, 0, 0, 0, 0, 0, 0, 0],\n",
    "    [0, 0, 0, 0, 0, 0, 0, 0, 0],\n",
    "    [0, 0, 0, 0, 0, 0, 0, 0, 0],\n",
    "    [0, 0, 0, 0, 0, 0, 0, 0, 0],\n",
    "    [0, 0, 0, 0, 0, 0, 0, 0, 0],\n",
    "    [0, 0, 0, 0, 0, 0, 0, 0, 0],\n",
    "    [0, 0, 0, 0, 0, 0, 0, 0, 0],\n",
    "    [0, 0, 0, 0, 0, 0, 0, 0, 0]\n",
    "]"
   ]
  },
  {
   "cell_type": "code",
   "execution_count": 13,
   "metadata": {},
   "outputs": [],
   "source": [
    "sudoku2 = [\n",
    "    [0, 0, 0, 0, 0, 0, 0, 0, 0],\n",
    "    [0, 0, 0, 0, 0, 3, 0, 8, 5],\n",
    "    [0, 0, 1, 0, 2, 0, 0, 0, 0],\n",
    "    [0, 0, 0, 5, 0, 7, 0, 0, 0],\n",
    "    [0, 0, 4, 0, 0, 0, 1, 0, 0],\n",
    "    [0, 9, 0, 0, 0, 0, 0, 0, 0],\n",
    "    [5, 0, 0, 0, 0, 0, 0, 7, 3],\n",
    "    [0, 0, 2, 0, 1, 0, 0, 0, 0],\n",
    "    [0, 0, 0, 0, 4, 0, 0, 0, 9]\n",
    "]"
   ]
  },
  {
   "cell_type": "code",
   "execution_count": 64,
   "metadata": {},
   "outputs": [],
   "source": [
    "def can_input(grid, value, row, col):\n",
    "    # Kiểm tra xem trong hàng muốn nhập đã có giá trị này chưa\n",
    "    for i in range(9):\n",
    "        if grid[row][i] == value:\n",
    "            return False\n",
    "        \n",
    "    # Kiểm tra xem trong cột muốn nhập đã có giá trị này chưa\n",
    "    for i in range(9):\n",
    "        if grid[i][col] == value:\n",
    "            return False\n",
    "\n",
    "    # Xác định vị trí ô 3x3 nhỏ chứa vị trí muốn điền\n",
    "    small_row = (row//3)*3\n",
    "    small_col = (col//3)*3\n",
    "\n",
    "    # Kiểm tra toàn bộ 9 ô trong mảng 3x3 xem đã có giá trị này chưa\n",
    "    for i in range(3):\n",
    "        for j in range(3):\n",
    "            if grid[small_row + i][small_col + j] == value:\n",
    "                return False\n",
    "\n",
    "    # Nếu chưa có ở đâu hết thì có thể điền value\n",
    "    return True\n",
    "\n",
    "def sudoku_solver(grid):\n",
    "    for row in range(9):\n",
    "        for col in range(9):\n",
    "            if grid[row][col] == 0:\n",
    "                # Nếu vẫn còn ô chưa giải\n",
    "                # Thử từng giá trị từ 1 đến 9\n",
    "                for value in range(9,0,-1):\n",
    "                    if can_input(grid, value, row, col):\n",
    "\n",
    "                        # Nếu điền được, gọi lại hàm để giải tiếp ô tiếp theo\n",
    "                        grid[row][col] = value\n",
    "                        if sudoku_solver(grid) == \"ok\":\n",
    "                            return \"ok\"\n",
    "\n",
    "                        # Nếu hàm bên trên bị kẹt, không thể điền tiếp nữa, thì ở đây sẽ trả lại về 0 và thử xét lại với giá trị khác\n",
    "                        grid[row][col] = 0\n",
    "\n",
    "                # Sau khi điền ổn rồi khi dừng lại, không xét thêm nữa\n",
    "                return \"bad\"\n",
    "            \n",
    "    # Sau khi toàn bộ bảng đã được điền thì hiện ra kết quả\n",
    "    display_sudoku(grid)\n",
    "    return \"ok\""
   ]
  },
  {
   "cell_type": "code",
   "execution_count": 48,
   "metadata": {},
   "outputs": [],
   "source": [
    "def sudoku_solver(grid):\n",
    "    for row in range(9):\n",
    "        for col in range(9):\n",
    "            if grid[row][col] == 0:\n",
    "\n",
    "                # Thử từng giá trị từ 1 đến 9\n",
    "                for value in range(9,0,-1):\n",
    "                    if can_input(grid, value, row, col):\n",
    "\n",
    "                        # Nếu điền được, gọi lại hàm để giải tiếp ô tiếp theo\n",
    "                        grid[row][col] = value\n",
    "                        sudoku_solver(grid)\n",
    "\n",
    "                        # Nếu hàm bên trên bị kẹt, không thể điền tiếp nữa, thì ở đây sẽ trả lại về 0 và thử xét lại với giá trị khác\n",
    "                        grid[row][col] = 0\n",
    "\n",
    "                # Sau khi điền ổn rồi khi dừng lại, không xét thêm nữa\n",
    "                return\n",
    "            \n",
    "    # Sau khi toàn bộ bảng đã được điền thì hiện ra kết quả\n",
    "    display_sudoku(grid)"
   ]
  },
  {
   "cell_type": "code",
   "execution_count": 65,
   "metadata": {},
   "outputs": [
    {
     "name": "stdout",
     "output_type": "stream",
     "text": [
      "9 8 7 | 6 5 4 | 3 2 1 \n",
      "2 4 6 | 1 7 3 | 9 8 5 \n",
      "3 5 1 | 9 2 8 | 7 4 6 \n",
      "------+-------+------\n",
      "1 2 8 | 5 3 7 | 6 9 4 \n",
      "6 3 4 | 8 9 2 | 1 5 7 \n",
      "7 9 5 | 4 6 1 | 8 3 2 \n",
      "------+-------+------\n",
      "5 1 9 | 2 8 6 | 4 7 3 \n",
      "4 7 2 | 3 1 9 | 5 6 8 \n",
      "8 6 3 | 7 4 5 | 2 1 9 \n"
     ]
    },
    {
     "data": {
      "text/plain": [
       "'ok'"
      ]
     },
     "execution_count": 65,
     "metadata": {},
     "output_type": "execute_result"
    }
   ],
   "source": [
    "sudoku_grid2 = [[0, 0, 0, 0, 0, 0, 0, 0, 0],\n",
    "                [0, 0, 0, 0, 0, 3, 0, 8, 5],\n",
    "                [0, 0, 1, 0, 2, 0, 0, 0, 0],\n",
    "                [0, 0, 0, 5, 0, 7, 0, 0, 0],\n",
    "                [0, 0, 4, 0, 0, 0, 1, 0, 0],\n",
    "                [0, 9, 0, 0, 0, 0, 0, 0, 0],\n",
    "                [5, 0, 0, 0, 0, 0, 0, 7, 3],\n",
    "                [0, 0, 2, 0, 1, 0, 0, 0, 0],\n",
    "                [0, 0, 0, 0, 4, 0, 0, 0, 9]]\n",
    "\n",
    "sudoku_solver(sudoku_grid2)"
   ]
  },
  {
   "cell_type": "code",
   "execution_count": null,
   "metadata": {},
   "outputs": [
    {
     "name": "stdout",
     "output_type": "stream",
     "text": [
      "- - - | - - - | - - - \n",
      "- - - | - - 3 | - 8 5 \n",
      "- - 1 | - 2 - | - - - \n",
      "------+-------+------\n",
      "- - - | 5 - 7 | - - - \n",
      "- - 4 | - - - | 1 - - \n",
      "- 9 - | - - - | - - - \n",
      "------+-------+------\n",
      "5 - - | - - - | - 7 3 \n",
      "- - 2 | - 1 - | - - - \n",
      "- - - | - 4 - | - - 9 \n"
     ]
    }
   ],
   "source": [
    "display_sudoku(sudoku2)"
   ]
  },
  {
   "cell_type": "code",
   "execution_count": 4,
   "metadata": {},
   "outputs": [
    {
     "name": "stdout",
     "output_type": "stream",
     "text": [
      "8 4 7 | 9 6 2 | 1 3 5 \n",
      "1 2 5 | 8 4 3 | 9 6 7 \n",
      "9 3 6 | 7 1 5 | 8 2 4 \n",
      "------+-------+------\n",
      "2 1 3 | 4 7 6 | 5 8 9 \n",
      "5 6 4 | 2 9 8 | 3 7 1 \n",
      "7 8 9 | 5 3 1 | 6 4 2 \n",
      "------+-------+------\n",
      "4 5 8 | 3 2 9 | 7 1 6 \n",
      "6 9 2 | 1 8 7 | 4 5 3 \n",
      "3 7 1 | 6 5 4 | 2 9 8 \n",
      "Solved sudoku at iteration 17368\n",
      "18223\n"
     ]
    }
   ],
   "source": [
    "function_calls = 0\n",
    "\n",
    "def display_sudoku(grid):\n",
    "    for row in range(9):\n",
    "        if row in (3,6):\n",
    "            print(\"------+-------+------\")\n",
    "        for col in range(9):\n",
    "            if col in (3,6):\n",
    "                print(\"| \", end=\"\")\n",
    "            print(grid[row][col], end = \" \")\n",
    "        print()\n",
    "\n",
    "def can_input(grid, value, row, col):\n",
    "    for i in range(9):\n",
    "        if grid[row][i] == value:\n",
    "            return False\n",
    "        \n",
    "    for i in range(9):\n",
    "        if grid[i][col] == value:\n",
    "            return False\n",
    "        \n",
    "    small_row = (row//3)*3\n",
    "    small_col = (col//3)*3\n",
    "    for i in range(3):\n",
    "        for j in range(3):\n",
    "            if grid[small_row + i][small_col + j] == value:\n",
    "                return False\n",
    "    return True\n",
    "\n",
    "def sudoku_solver(grid):\n",
    "    global function_calls\n",
    "    function_calls += 1\n",
    "    for row in range(9):\n",
    "        for col in range(9):\n",
    "            if grid[row][col] == 0:\n",
    "                for value in range(1, 10):\n",
    "                    if can_input(grid, value, row, col):\n",
    "                        grid[row][col] = value\n",
    "                        sudoku_solver(grid)\n",
    "                        grid[row][col] = 0\n",
    "                return\n",
    "    display_sudoku(grid)\n",
    "    print(f\"Solved sudoku at iteration {function_calls}\")\n",
    "\n",
    "sudoku_input = [\n",
    "    [0, 0, 0, 0, 0, 2, 0, 3, 0],\n",
    "    [0, 0, 5, 8, 0, 0, 9, 0, 0],\n",
    "    [9, 0, 0, 0, 0, 5, 0, 0, 0],\n",
    "    [0, 1, 3, 4, 0, 6, 0, 8, 0],\n",
    "    [0, 6, 0, 0, 0, 0, 0, 7, 0],\n",
    "    [0, 8, 0, 5, 0, 1, 6, 4, 0],\n",
    "    [0, 0, 0, 3, 0, 0, 0, 0, 6],\n",
    "    [0, 0, 2, 0, 0, 7, 4, 0, 0],\n",
    "    [0, 7, 0, 6, 0, 0, 0, 0, 0],\n",
    "]\n",
    "\n",
    "sudoku_solver(sudoku_input)\n",
    "print(function_calls)"
   ]
  },
  {
   "cell_type": "code",
   "execution_count": 43,
   "metadata": {},
   "outputs": [
    {
     "name": "stdout",
     "output_type": "stream",
     "text": [
      "8 4 7 | 9 6 2 | 1 3 5 \n",
      "1 2 5 | 8 4 3 | 9 6 7 \n",
      "9 3 6 | 7 1 5 | 8 2 4 \n",
      "------+-------+------\n",
      "2 1 3 | 4 7 6 | 5 8 9 \n",
      "5 6 4 | 2 9 8 | 3 7 1 \n",
      "7 8 9 | 5 3 1 | 6 4 2 \n",
      "------+-------+------\n",
      "4 5 8 | 3 2 9 | 7 1 6 \n",
      "6 9 2 | 1 8 7 | 4 5 3 \n",
      "3 7 1 | 6 5 4 | 2 9 8 \n",
      "Solved sudoku after called sudoku_solver 17368 times.\n",
      "Total called sudoku_solver 18223 times.\n"
     ]
    }
   ],
   "source": [
    "function_calls = 0\n",
    "\n",
    "def sudoku_solver(grid):\n",
    "    global function_calls     # Thêm giá trị function_calls\n",
    "    function_calls += 1       # +1 mỗi lần chạy function\n",
    "    for row in range(9):\n",
    "        for col in range(9):\n",
    "            if grid[row][col] == 0:\n",
    "                for value in range(1, 10):\n",
    "                    if can_input(grid, value, row, col):\n",
    "                        grid[row][col] = value\n",
    "                        sudoku_solver(grid)\n",
    "                        grid[row][col] = 0\n",
    "                return\n",
    "    display_sudoku(grid)\n",
    "\n",
    "    # Hiển thị thời điểm hàm được giải\n",
    "    print(f\"Solved sudoku after called sudoku_solver {function_calls} times.\")\n",
    "\n",
    "\n",
    "sudoku_input = [\n",
    "    [0, 0, 0, 0, 0, 2, 0, 3, 0],\n",
    "    [0, 0, 5, 8, 0, 0, 9, 0, 0],\n",
    "    [9, 0, 0, 0, 0, 5, 0, 0, 0],\n",
    "    [0, 1, 3, 4, 0, 6, 0, 8, 0],\n",
    "    [0, 6, 0, 0, 0, 0, 0, 7, 0],\n",
    "    [0, 8, 0, 5, 0, 1, 6, 4, 0],\n",
    "    [0, 0, 0, 3, 0, 0, 0, 0, 6],\n",
    "    [0, 0, 2, 0, 0, 7, 4, 0, 0],\n",
    "    [0, 7, 0, 6, 0, 0, 0, 0, 0],\n",
    "]\n",
    "\n",
    "sudoku_solver(sudoku_input)\n",
    "\n",
    "# Xuất ra giá trị function_calls cuối\n",
    "print(f\"Total called sudoku_solver {function_calls} times.\")"
   ]
  },
  {
   "cell_type": "code",
   "execution_count": 32,
   "metadata": {},
   "outputs": [
    {
     "name": "stdout",
     "output_type": "stream",
     "text": [
      "row= 0 \t col= 1\n",
      "row= 0 \t col= 2\n",
      "row= 0 \t col= 3\n",
      "row= 0 \t col= 4\n",
      "row= 0 \t col= 5\n",
      "row= 0 \t col= 6\n",
      "row= 0 \t col= 7\n",
      "row= 0 \t col= 8\n",
      "row= 1 \t col= 0\n",
      "row= 1 \t col= 1\n",
      "row= 1 \t col= 2\n",
      "row= 1 \t col= 3\n",
      "row= 1 \t col= 4\n",
      "row= 1 \t col= 5\n",
      "row= 1 \t col= 6\n",
      "row= 1 \t col= 7\n",
      "row= 1 \t col= 8\n",
      "row= 2 \t col= 0\n",
      "row= 2 \t col= 1\n",
      "row= 2 \t col= 2\n",
      "row= 2 \t col= 3\n",
      "row= 2 \t col= 4\n",
      "row= 2 \t col= 5\n",
      "row= 2 \t col= 6\n",
      "row= 2 \t col= 7\n",
      "row= 2 \t col= 8\n",
      "row= 3 \t col= 0\n",
      "row= 3 \t col= 1\n",
      "row= 3 \t col= 2\n",
      "row= 3 \t col= 3\n",
      "row= 3 \t col= 4\n",
      "row= 3 \t col= 5\n",
      "row= 3 \t col= 6\n",
      "row= 3 \t col= 7\n",
      "row= 3 \t col= 8\n",
      "row= 4 \t col= 0\n",
      "row= 4 \t col= 1\n",
      "row= 4 \t col= 2\n",
      "row= 4 \t col= 3\n",
      "row= 4 \t col= 4\n",
      "row= 4 \t col= 5\n",
      "row= 4 \t col= 6\n",
      "row= 4 \t col= 7\n",
      "row= 4 \t col= 8\n",
      "row= 5 \t col= 0\n",
      "row= 5 \t col= 1\n",
      "row= 5 \t col= 2\n",
      "row= 5 \t col= 3\n",
      "row= 5 \t col= 4\n",
      "row= 5 \t col= 5\n",
      "row= 5 \t col= 6\n",
      "row= 5 \t col= 7\n",
      "row= 5 \t col= 8\n",
      "row= 6 \t col= 0\n",
      "row= 6 \t col= 1\n",
      "row= 6 \t col= 2\n",
      "row= 6 \t col= 3\n",
      "row= 6 \t col= 4\n",
      "row= 6 \t col= 5\n",
      "row= 6 \t col= 6\n",
      "row= 6 \t col= 7\n",
      "row= 6 \t col= 8\n",
      "row= 7 \t col= 0\n",
      "row= 7 \t col= 1\n",
      "row= 7 \t col= 2\n",
      "row= 7 \t col= 3\n",
      "row= 7 \t col= 4\n",
      "row= 7 \t col= 5\n",
      "row= 7 \t col= 6\n",
      "row= 7 \t col= 7\n",
      "row= 7 \t col= 8\n",
      "row= 8 \t col= 0\n",
      "row= 8 \t col= 1\n",
      "row= 8 \t col= 2\n",
      "row= 8 \t col= 3\n",
      "row= 8 \t col= 4\n",
      "row= 8 \t col= 5\n",
      "row= 8 \t col= 6\n",
      "row= 8 \t col= 7\n",
      "row= 8 \t col= 8\n",
      "row= 9 \t col= 0\n",
      "row= 9 \t col= 1\n",
      "row= 9 \t col= 2\n",
      "row= 9 \t col= 3\n",
      "row= 9 \t col= 4\n",
      "row= 9 \t col= 5\n",
      "row= 9 \t col= 6\n",
      "row= 9 \t col= 7\n",
      "row= 9 \t col= 8\n",
      "row= 10 \t col= 0\n"
     ]
    }
   ],
   "source": [
    "row = 0\n",
    "col = 0\n",
    "counter = 0\n",
    "while counter < 90:\n",
    "    col = (col + 1) % 9\n",
    "    row = row + (col == 0)\n",
    "    print(f\"row= {row} \\t col= {col}\")\n",
    "    counter += 1"
   ]
  },
  {
   "cell_type": "code",
   "execution_count": 66,
   "metadata": {},
   "outputs": [
    {
     "name": "stdout",
     "output_type": "stream",
     "text": [
      "8 4 7 | 9 6 2 | 1 3 5 \n",
      "1 2 5 | 8 4 3 | 9 6 7 \n",
      "9 3 6 | 7 1 5 | 8 2 4 \n",
      "------+-------+------\n",
      "2 1 3 | 4 7 6 | 5 8 9 \n",
      "5 6 4 | 2 9 8 | 3 7 1 \n",
      "7 8 9 | 5 3 1 | 6 4 2 \n",
      "------+-------+------\n",
      "4 5 8 | 3 2 9 | 7 1 6 \n",
      "6 9 2 | 1 8 7 | 4 5 3 \n",
      "3 7 1 | 6 5 4 | 2 9 8 \n",
      "Solved sudoku after called sudoku_solver 26397 times.\n",
      "Total called sudoku_solver 27698 times.\n"
     ]
    }
   ],
   "source": [
    "function_calls = 0\n",
    "\n",
    "def sudoku_solver2(grid, row=0, col=0):\n",
    "    global function_calls\n",
    "    function_calls += 1\n",
    "    if row == 9:\n",
    "        display_sudoku(grid)\n",
    "        print(f\"Solved sudoku after called sudoku_solver {function_calls} times.\")\n",
    "        return\n",
    "    else:\n",
    "        next_col = (col + 1) % 9\n",
    "        next_row = row + (next_col == 0)\n",
    "        if grid[row][col] == 0:\n",
    "            for value in range(1, 10):\n",
    "                if can_input(grid, value, row, col):\n",
    "                    grid[row][col] = value\n",
    "                    sudoku_solver2(grid, next_row, next_col)\n",
    "                    grid[row][col] = 0\n",
    "        else:\n",
    "            sudoku_solver2(grid, next_row, next_col)\n",
    "\n",
    "sudoku_input = [\n",
    "    [0, 0, 0, 0, 0, 2, 0, 3, 0],\n",
    "    [0, 0, 5, 8, 0, 0, 9, 0, 0],\n",
    "    [9, 0, 0, 0, 0, 5, 0, 0, 0],\n",
    "    [0, 1, 3, 4, 0, 6, 0, 8, 0],\n",
    "    [0, 6, 0, 0, 0, 0, 0, 7, 0],\n",
    "    [0, 8, 0, 5, 0, 1, 6, 4, 0],\n",
    "    [0, 0, 0, 3, 0, 0, 0, 0, 6],\n",
    "    [0, 0, 2, 0, 0, 7, 4, 0, 0],\n",
    "    [0, 7, 0, 6, 0, 0, 0, 0, 0],\n",
    "]\n",
    "\n",
    "sudoku_solver2(sudoku_input)\n",
    "\n",
    "# Xuất ra giá trị function_calls cuối\n",
    "print(f\"Total called sudoku_solver {function_calls} times.\")"
   ]
  },
  {
   "cell_type": "code",
   "execution_count": 24,
   "metadata": {},
   "outputs": [],
   "source": [
    "import timeit"
   ]
  },
  {
   "cell_type": "code",
   "execution_count": 41,
   "metadata": {},
   "outputs": [
    {
     "name": "stdout",
     "output_type": "stream",
     "text": [
      "2.58 ms ± 636 µs per loop (mean ± std. dev. of 7 runs, 100 loops each)\n"
     ]
    }
   ],
   "source": [
    "%timeit sudoku_solver(sudoku_input)"
   ]
  },
  {
   "cell_type": "code",
   "execution_count": 42,
   "metadata": {},
   "outputs": [
    {
     "name": "stdout",
     "output_type": "stream",
     "text": [
      "3.27 ms ± 1.08 ms per loop (mean ± std. dev. of 7 runs, 100 loops each)\n"
     ]
    }
   ],
   "source": [
    "%timeit sudoku_solver2(sudoku_input)"
   ]
  },
  {
   "cell_type": "code",
   "execution_count": 18,
   "metadata": {},
   "outputs": [
    {
     "name": "stdout",
     "output_type": "stream",
     "text": [
      "Solved sudoku after called sudoku_solver 439427 times.\n",
      "Solved sudoku after called sudoku_solver 468928 times.\n",
      "Solved sudoku after called sudoku_solver 498429 times.\n",
      "Solved sudoku after called sudoku_solver 527930 times.\n",
      "Solved sudoku after called sudoku_solver 557431 times.\n",
      "Solved sudoku after called sudoku_solver 586932 times.\n",
      "Solved sudoku after called sudoku_solver 616433 times.\n",
      "Solved sudoku after called sudoku_solver 645934 times.\n",
      "551 ms ± 118 ms per loop (mean ± std. dev. of 7 runs, 1 loop each)\n"
     ]
    }
   ],
   "source": [
    "%timeit sudoku_solver2(sudoku_input)"
   ]
  },
  {
   "cell_type": "code",
   "execution_count": 19,
   "metadata": {},
   "outputs": [
    {
     "name": "stdout",
     "output_type": "stream",
     "text": [
      "Solved sudoku after called sudoku_solver 428661 times.\n",
      "Solved sudoku after called sudoku_solver 446884 times.\n",
      "Solved sudoku after called sudoku_solver 465107 times.\n",
      "Solved sudoku after called sudoku_solver 483330 times.\n",
      "Solved sudoku after called sudoku_solver 501553 times.\n",
      "Solved sudoku after called sudoku_solver 519776 times.\n",
      "Solved sudoku after called sudoku_solver 537999 times.\n",
      "Solved sudoku after called sudoku_solver 556222 times.\n",
      "579 ms ± 83.4 ms per loop (mean ± std. dev. of 7 runs, 1 loop each)\n"
     ]
    }
   ],
   "source": [
    "%timeit sudoku_solver(sudoku_input)"
   ]
  }
 ],
 "metadata": {
  "kernelspec": {
   "display_name": "base",
   "language": "python",
   "name": "python3"
  },
  "language_info": {
   "codemirror_mode": {
    "name": "ipython",
    "version": 3
   },
   "file_extension": ".py",
   "mimetype": "text/x-python",
   "name": "python",
   "nbconvert_exporter": "python",
   "pygments_lexer": "ipython3",
   "version": "3.10.9"
  }
 },
 "nbformat": 4,
 "nbformat_minor": 2
}
