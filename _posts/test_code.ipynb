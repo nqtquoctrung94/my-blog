{
 "cells": [
  {
   "cell_type": "code",
   "execution_count": 7,
   "metadata": {},
   "outputs": [
    {
     "name": "stdout",
     "output_type": "stream",
     "text": [
      "0 0 0 | 0 0 2 | 0 3 0 \n",
      "0 0 5 | 8 0 0 | 9 0 0 \n",
      "9 0 0 | 0 0 5 | 0 0 0 \n",
      "------+-------+------\n",
      "0 1 3 | 4 0 6 | 0 8 0 \n",
      "0 6 0 | 0 0 0 | 0 7 0 \n",
      "0 8 0 | 5 0 1 | 6 4 0 \n",
      "------+-------+------\n",
      "0 0 0 | 3 0 0 | 0 0 6 \n",
      "0 0 2 | 0 0 7 | 4 0 0 \n",
      "0 7 0 | 6 0 0 | 0 0 0 \n"
     ]
    }
   ],
   "source": [
    "def display_sudoku(grid, blank_notation = \"-\"):\n",
    "    for row in range(9):\n",
    "\n",
    "        # In thêm dòng ngăn cách nếu ở các dòng 3, 6\n",
    "        if row in (3,6):\n",
    "            print(\"------+-------+------\")\n",
    "\n",
    "        # In thêm | để chia cột nếu ở các cột 3, 6\n",
    "        for col in range(9):\n",
    "            if col in (3,6):\n",
    "                print(\"| \", end=\"\")\n",
    "\n",
    "            # Nếu là số 0, tức là giá trị chưa được điền, thì đổi thành blank_notation tuỳ ý\n",
    "            number = grid[row][col]\n",
    "            if number == 0:\n",
    "                number = blank_notation\n",
    "\n",
    "            # Viết số trong mảng, thêm khoảng cách \" \" phía sau\n",
    "            print(number, end = \" \")\n",
    "        print()\n",
    "\n",
    "sudoku_grid = [[0, 0, 0, 0, 0, 2, 0, 3, 0],\n",
    "               [0, 0, 5, 8, 0, 0, 9, 0, 0],\n",
    "               [9, 0, 0, 0, 0, 5, 0, 0, 0],\n",
    "               [0, 1, 3, 4, 0, 6, 0, 8, 0],\n",
    "               [0, 6, 0, 0, 0, 0, 0, 7, 0],\n",
    "               [0, 8, 0, 5, 0, 1, 6, 4, 0],\n",
    "               [0, 0, 0, 3, 0, 0, 0, 0, 6],\n",
    "               [0, 0, 2, 0, 0, 7, 4, 0, 0],\n",
    "               [0, 7, 0, 6, 0, 0, 0, 0, 0]]\n",
    "display_sudoku(sudoku_grid, blank_notation=0)"
   ]
  },
  {
   "cell_type": "code",
   "execution_count": 8,
   "metadata": {},
   "outputs": [],
   "source": [
    "def can_input(grid, value, row, col):\n",
    "    # Kiểm tra xem trong hàng muốn nhập đã có giá trị này chưa\n",
    "    for i in range(9):\n",
    "        if grid[row][i] == value:\n",
    "            return False\n",
    "        \n",
    "    # Kiểm tra xem trong cột muốn nhập đã có giá trị này chưa\n",
    "    for i in range(9):\n",
    "        if grid[i][col] == value:\n",
    "            return False\n",
    "\n",
    "    # Xác định vị trí ô 3x3 nhỏ chứa vị trí muốn điền\n",
    "    small_row = (row//3)*3\n",
    "    small_col = (col//3)*3\n",
    "\n",
    "    # Kiểm tra toàn bộ 9 ô trong mảng 3x3 xem đã có giá trị này chưa\n",
    "    for i in range(3):\n",
    "        for j in range(3):\n",
    "            if grid[small_row + i][small_col + j] == value:\n",
    "                return False\n",
    "\n",
    "    # Nếu chưa có ở đâu hết thì có thể điền value\n",
    "    return True\n",
    "\n",
    "def sudoku_solver(grid):\n",
    "    for row in range(9):\n",
    "        for col in range(9):\n",
    "            if grid[row][col] == 0:\n",
    "\n",
    "                # Thử từng giá trị từ 1 đến 9\n",
    "                for value in range(1, 10):\n",
    "                    if can_input(grid, value, row, col):\n",
    "\n",
    "                        # Nếu điền được, gọi lại hàm để giải tiếp ô tiếp theo\n",
    "                        grid[row][col] = value\n",
    "                        sudoku_solver(grid)\n",
    "\n",
    "                        # Nếu hàm bên trên bị kẹt, không thể điền tiếp nữa, thì ở đây sẽ trả lại về 0 và thử xét lại với giá trị khác\n",
    "                        grid[row][col] = 0\n",
    "\n",
    "                # Sau khi điền ổn rồi khi dừng lại, không xét thêm nữa\n",
    "                return\n",
    "            \n",
    "    # Sau khi toàn bộ bảng đã được điền thì hiện ra kết quả\n",
    "    display_sudoku(grid)"
   ]
  },
  {
   "cell_type": "code",
   "execution_count": 9,
   "metadata": {},
   "outputs": [],
   "source": [
    "def sudoku_solver2(grid, row=0, col=0):\n",
    "\n",
    "    if col == 9:\n",
    "        if row == 8:\n",
    "            # Nếu đã đến cột cuối, dòng cuối rồi thì là đã giải xong, in ra sudoku\n",
    "            display_sudoku(grid)\n",
    "            return\n",
    "        \n",
    "        # Nếu chưa đến dòng cuối, thì tăng số dòng +1, chuyển cột về 0\n",
    "        sudoku_solver2(grid, row+1, 0)\n",
    "    else:\n",
    "        if grid[row][col] == 0:\n",
    "\n",
    "            # Thử từng giá trị từ 1 đến 9\n",
    "            for value in range(1, 10):\n",
    "                if can_input(grid, value, row, col):\n",
    "\n",
    "                    # Nếu điền được, gọi lại hàm để giải tiếp ô ở cột tiếp theo\n",
    "                    grid[row][col] = value\n",
    "                    sudoku_solver2(grid, row, col+1)\n",
    "\n",
    "                    # Nếu hàm bên trên bị kẹt, không thể điền tiếp nữa, thì ở đây sẽ trả lại về 0 và thử xét lại với giá trị khác\n",
    "                    grid[row][col] = 0\n",
    "\n",
    "        # Nếu ô hiện tại không trống thì qua cột tiếp theo\n",
    "        else:\n",
    "            sudoku_solver2(grid, row, col+1)"
   ]
  },
  {
   "cell_type": "code",
   "execution_count": 10,
   "metadata": {},
   "outputs": [
    {
     "name": "stdout",
     "output_type": "stream",
     "text": [
      "8 4 7 | 9 6 2 | 1 3 5 \n",
      "1 2 5 | 8 4 3 | 9 6 7 \n",
      "9 3 6 | 7 1 5 | 8 2 4 \n",
      "------+-------+------\n",
      "2 1 3 | 4 7 6 | 5 8 9 \n",
      "5 6 4 | 2 9 8 | 3 7 1 \n",
      "7 8 9 | 5 3 1 | 6 4 2 \n",
      "------+-------+------\n",
      "4 5 8 | 3 2 9 | 7 1 6 \n",
      "6 9 2 | 1 8 7 | 4 5 3 \n",
      "3 7 1 | 6 5 4 | 2 9 8 \n"
     ]
    }
   ],
   "source": [
    "sodoku_grid = [\n",
    "    [0, 0, 0, 0, 0, 2, 0, 3, 0],\n",
    "    [0, 0, 5, 8, 0, 0, 9, 0, 0],\n",
    "    [9, 0, 0, 0, 0, 5, 0, 0, 0],\n",
    "    [0, 1, 3, 4, 0, 6, 0, 8, 0],\n",
    "    [0, 6, 0, 0, 0, 0, 0, 7, 0],\n",
    "    [0, 8, 0, 5, 0, 1, 6, 4, 0],\n",
    "    [0, 0, 0, 3, 0, 0, 0, 0, 6],\n",
    "    [0, 0, 2, 0, 0, 7, 4, 0, 0],\n",
    "    [0, 7, 0, 6, 0, 0, 0, 0, 0],\n",
    "]\n",
    "\n",
    "sudoku_solver2(sodoku_grid)"
   ]
  },
  {
   "cell_type": "code",
   "execution_count": 11,
   "metadata": {},
   "outputs": [
    {
     "name": "stdout",
     "output_type": "stream",
     "text": [
      "8 4 7 | 9 6 2 | 1 3 5 \n",
      "1 2 5 | 8 4 3 | 9 6 7 \n",
      "9 3 6 | 7 1 5 | 8 2 4 \n",
      "------+-------+------\n",
      "2 1 3 | 4 7 6 | 5 8 9 \n",
      "5 6 4 | 2 9 8 | 3 7 1 \n",
      "7 8 9 | 5 3 1 | 6 4 2 \n",
      "------+-------+------\n",
      "4 5 8 | 3 2 9 | 7 1 6 \n",
      "6 9 2 | 1 8 7 | 4 5 3 \n",
      "3 7 1 | 6 5 4 | 2 9 8 \n"
     ]
    }
   ],
   "source": [
    "sodoku_grid = [\n",
    "    [0, 0, 0, 0, 0, 2, 0, 3, 0],\n",
    "    [0, 0, 5, 8, 0, 0, 9, 0, 0],\n",
    "    [9, 0, 0, 0, 0, 5, 0, 0, 0],\n",
    "    [0, 1, 3, 4, 0, 6, 0, 8, 0],\n",
    "    [0, 6, 0, 0, 0, 0, 0, 7, 0],\n",
    "    [0, 8, 0, 5, 0, 1, 6, 4, 0],\n",
    "    [0, 0, 0, 3, 0, 0, 0, 0, 6],\n",
    "    [0, 0, 2, 0, 0, 7, 4, 0, 0],\n",
    "    [0, 7, 0, 6, 0, 0, 0, 0, 0],\n",
    "]\n",
    "\n",
    "sudoku_solver(sodoku_grid)"
   ]
  },
  {
   "cell_type": "code",
   "execution_count": 12,
   "metadata": {},
   "outputs": [],
   "source": [
    "blank_sudoku = [\n",
    "    [0, 0, 0, 0, 0, 0, 0, 0, 0],\n",
    "    [0, 0, 0, 0, 0, 0, 0, 0, 0],\n",
    "    [0, 0, 0, 0, 0, 0, 0, 0, 0],\n",
    "    [0, 0, 0, 0, 0, 0, 0, 0, 0],\n",
    "    [0, 0, 0, 0, 0, 0, 0, 0, 0],\n",
    "    [0, 0, 0, 0, 0, 0, 0, 0, 0],\n",
    "    [0, 0, 0, 0, 0, 0, 0, 0, 0],\n",
    "    [0, 0, 0, 0, 0, 0, 0, 0, 0],\n",
    "    [0, 0, 0, 0, 0, 0, 0, 0, 0]\n",
    "]"
   ]
  },
  {
   "cell_type": "code",
   "execution_count": 13,
   "metadata": {},
   "outputs": [],
   "source": [
    "sudoku2 = [\n",
    "    [0, 0, 0, 0, 0, 0, 0, 0, 0],\n",
    "    [0, 0, 0, 0, 0, 3, 0, 8, 5],\n",
    "    [0, 0, 1, 0, 2, 0, 0, 0, 0],\n",
    "    [0, 0, 0, 5, 0, 7, 0, 0, 0],\n",
    "    [0, 0, 4, 0, 0, 0, 1, 0, 0],\n",
    "    [0, 9, 0, 0, 0, 0, 0, 0, 0],\n",
    "    [5, 0, 0, 0, 0, 0, 0, 7, 3],\n",
    "    [0, 0, 2, 0, 1, 0, 0, 0, 0],\n",
    "    [0, 0, 0, 0, 4, 0, 0, 0, 9]\n",
    "]"
   ]
  },
  {
   "cell_type": "code",
   "execution_count": 20,
   "metadata": {},
   "outputs": [],
   "source": [
    "def can_input(grid, value, row, col):\n",
    "    # Kiểm tra xem trong hàng muốn nhập đã có giá trị này chưa\n",
    "    for i in range(9):\n",
    "        if grid[row][i] == value:\n",
    "            return False\n",
    "        \n",
    "    # Kiểm tra xem trong cột muốn nhập đã có giá trị này chưa\n",
    "    for i in range(9):\n",
    "        if grid[i][col] == value:\n",
    "            return False\n",
    "\n",
    "    # Xác định vị trí ô 3x3 nhỏ chứa vị trí muốn điền\n",
    "    small_row = (row//3)*3\n",
    "    small_col = (col//3)*3\n",
    "\n",
    "    # Kiểm tra toàn bộ 9 ô trong mảng 3x3 xem đã có giá trị này chưa\n",
    "    for i in range(3):\n",
    "        for j in range(3):\n",
    "            if grid[small_row + i][small_col + j] == value:\n",
    "                return False\n",
    "\n",
    "    # Nếu chưa có ở đâu hết thì có thể điền value\n",
    "    return True\n",
    "\n",
    "def sudoku_solver(grid):\n",
    "    for row in range(9):\n",
    "        for col in range(9):\n",
    "            if grid[row][col] == 0:\n",
    "                # Nếu vẫn còn ô chưa giải\n",
    "                # Thử từng giá trị từ 1 đến 9\n",
    "                for value in range(9,0,-1):\n",
    "                    if can_input(grid, value, row, col):\n",
    "\n",
    "                        # Nếu điền được, gọi lại hàm để giải tiếp ô tiếp theo\n",
    "                        grid[row][col] = value\n",
    "                        if sudoku_solver(grid):\n",
    "                            return True\n",
    "\n",
    "                        # Nếu hàm bên trên bị kẹt, không thể điền tiếp nữa, thì ở đây sẽ trả lại về 0 và thử xét lại với giá trị khác\n",
    "                        grid[row][col] = 0\n",
    "\n",
    "                # Sau khi điền ổn rồi khi dừng lại, không xét thêm nữa\n",
    "                return False\n",
    "            \n",
    "    # Sau khi toàn bộ bảng đã được điền thì hiện ra kết quả\n",
    "    print(\"Done\")\n",
    "    display_sudoku(grid)\n",
    "    \n",
    "    return True"
   ]
  },
  {
   "cell_type": "code",
   "execution_count": 21,
   "metadata": {},
   "outputs": [
    {
     "name": "stdout",
     "output_type": "stream",
     "text": [
      "Done\n",
      "9 8 7 | 6 5 4 | 3 2 1 \n",
      "2 4 6 | 1 7 3 | 9 8 5 \n",
      "3 5 1 | 9 2 8 | 7 4 6 \n",
      "------+-------+------\n",
      "1 2 8 | 5 3 7 | 6 9 4 \n",
      "6 3 4 | 8 9 2 | 1 5 7 \n",
      "7 9 5 | 4 6 1 | 8 3 2 \n",
      "------+-------+------\n",
      "5 1 9 | 2 8 6 | 4 7 3 \n",
      "4 7 2 | 3 1 9 | 5 6 8 \n",
      "8 6 3 | 7 4 5 | 2 1 9 \n"
     ]
    },
    {
     "data": {
      "text/plain": [
       "True"
      ]
     },
     "execution_count": 21,
     "metadata": {},
     "output_type": "execute_result"
    }
   ],
   "source": [
    "sudoku2 = [\n",
    "    [0, 0, 0, 0, 0, 0, 0, 0, 0],\n",
    "    [0, 0, 0, 0, 0, 3, 0, 8, 5],\n",
    "    [0, 0, 1, 0, 2, 0, 0, 0, 0],\n",
    "    [0, 0, 0, 5, 0, 7, 0, 0, 0],\n",
    "    [0, 0, 4, 0, 0, 0, 1, 0, 0],\n",
    "    [0, 9, 0, 0, 0, 0, 0, 0, 0],\n",
    "    [5, 0, 0, 0, 0, 0, 0, 7, 3],\n",
    "    [0, 0, 2, 0, 1, 0, 0, 0, 0],\n",
    "    [0, 0, 0, 0, 4, 0, 0, 0, 9]\n",
    "]\n",
    "\n",
    "sudoku_solver(sudoku2)"
   ]
  },
  {
   "cell_type": "code",
   "execution_count": null,
   "metadata": {},
   "outputs": [
    {
     "name": "stdout",
     "output_type": "stream",
     "text": [
      "- - - | - - - | - - - \n",
      "- - - | - - 3 | - 8 5 \n",
      "- - 1 | - 2 - | - - - \n",
      "------+-------+------\n",
      "- - - | 5 - 7 | - - - \n",
      "- - 4 | - - - | 1 - - \n",
      "- 9 - | - - - | - - - \n",
      "------+-------+------\n",
      "5 - - | - - - | - 7 3 \n",
      "- - 2 | - 1 - | - - - \n",
      "- - - | - 4 - | - - 9 \n"
     ]
    }
   ],
   "source": [
    "display_sudoku(sudoku2)"
   ]
  }
 ],
 "metadata": {
  "kernelspec": {
   "display_name": "base",
   "language": "python",
   "name": "python3"
  },
  "language_info": {
   "codemirror_mode": {
    "name": "ipython",
    "version": 3
   },
   "file_extension": ".py",
   "mimetype": "text/x-python",
   "name": "python",
   "nbconvert_exporter": "python",
   "pygments_lexer": "ipython3",
   "version": "3.10.9"
  }
 },
 "nbformat": 4,
 "nbformat_minor": 2
}
